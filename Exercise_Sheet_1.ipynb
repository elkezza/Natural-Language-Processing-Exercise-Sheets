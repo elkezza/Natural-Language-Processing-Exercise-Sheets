{
 "cells": [
  {
   "cell_type": "markdown",
   "metadata": {},
   "source": [
    "# Natural Language Processing\n",
    "\n",
    "## Exercise Sheet 1"
   ]
  },
  {
   "cell_type": "code",
   "execution_count": 16,
   "metadata": {
    "tags": []
   },
   "outputs": [],
   "source": [
    "#imports for all exercises\n",
    "import nltk\n",
    "# nltk.download('book')\n",
    "from nltk.book import *\n",
    "from nltk import FreqDist"
   ]
  },
  {
   "cell_type": "markdown",
   "metadata": {},
   "source": [
    "### Exercise 1\n",
    "\n",
    "How many words are there in `text2` from `nltk.book`? How many distinct words are there? Calculate the lexical diversity.\n"
   ]
  },
  {
   "cell_type": "markdown",
   "metadata": {},
   "source": [
    "## i) To count the number of words in text2, you can simply take the length of this list-like object:"
   ]
  },
  {
   "cell_type": "code",
   "execution_count": 2,
   "metadata": {
    "tags": []
   },
   "outputs": [
    {
     "name": "stdout",
     "output_type": "stream",
     "text": [
      "Total number of words: 141576\n"
     ]
    }
   ],
   "source": [
    "total_words = len(text2)\n",
    "print(\"Total number of words:\", total_words)"
   ]
  },
  {
   "cell_type": "markdown",
   "metadata": {},
   "source": [
    "## ii) To count the number of distinct words, you can convert the words to a set (which only allows unique elements) and then take the length of this set:"
   ]
  },
  {
   "cell_type": "code",
   "execution_count": 3,
   "metadata": {
    "tags": []
   },
   "outputs": [
    {
     "name": "stdout",
     "output_type": "stream",
     "text": [
      "Number of distinct words: 6833\n"
     ]
    }
   ],
   "source": [
    "distinct_words = len(set(text2))\n",
    "print(\"Number of distinct words:\", distinct_words)\n"
   ]
  },
  {
   "cell_type": "markdown",
   "metadata": {},
   "source": [
    "## iii) The lexical diversity can be calculated by dividing the number of distinct words by the total number of words:"
   ]
  },
  {
   "cell_type": "code",
   "execution_count": 4,
   "metadata": {
    "tags": []
   },
   "outputs": [
    {
     "name": "stdout",
     "output_type": "stream",
     "text": [
      "Lexical diversity: 0.04826383002768831\n"
     ]
    }
   ],
   "source": [
    "lexical_diversity = distinct_words / total_words\n",
    "print(\"Lexical diversity:\", lexical_diversity)"
   ]
  },
  {
   "cell_type": "markdown",
   "metadata": {},
   "source": [
    "### Exercise 2\n",
    "\n",
    "Produce a dispersion plot of the four main protagonists in Sense and Sensibility: Elinor, Marianne, Edward, and Willoughby. What can you observe about the different roles played by the males and females in this novel? Can you identify the couples?"
   ]
  },
  {
   "cell_type": "code",
   "execution_count": 5,
   "metadata": {
    "tags": []
   },
   "outputs": [
    {
     "data": {
      "image/png": "[encoded data removed]",
      "text/plain": [
       "<Figure size 640x480 with 1 Axes>"
      ]
     },
     "metadata": {},
     "output_type": "display_data"
    }
   ],
   "source": [
    "characters = [\"Elinor\", \"Marianne\", \"Edward\", \"Willoughby\"]\n",
    "text2.dispersion_plot(characters)"
   ]
  },
  {
   "cell_type": "markdown",
   "metadata": {},
   "source": [
    "From the plot we can see that Elinor and Marianne mentioned more frequently which mean they pay main role in the narrative and as they are female this might suggest that the Female characters is more central within the narrative\n",
    "\n",
    "However as it is clear based on the frequent mentions of Elinor and Marianne they are the main characters, it is hard to distinguish who has relation with who me.\n",
    "In \"Sense and Sensibility,\" the relationships between characters are central to the plot, but those relationships are developed through interactions and dialogue that aren't directly visible in the dispersion plot."
   ]
  },
  {
   "cell_type": "code",
   "execution_count": 6,
   "metadata": {
    "tags": []
   },
   "outputs": [
    {
     "name": "stdout",
     "output_type": "stream",
     "text": [
      "Displaying 25 of 685 matches:\n",
      "avoid a breach with their brother . Elinor , this eldest daughter , whose advi\n",
      ", in many respects , quite equal to Elinor ' s . She was sensible and clever ;\n",
      "d her mother was strikingly great . Elinor saw , with concern , the excess of \n",
      "r admitting consolation in future . Elinor , too , was deeply afflicted ; but \n",
      "at he loved her daughter , and that Elinor returned the partiality . It was co\n",
      "semblance of disposition ; and that Elinor ' s merit should not be acknowledge\n",
      "him farther , by a reflection which Elinor chanced one day to make on the diff\n",
      "\" I think you will like him ,\" said Elinor , \" when you know more of him .\" \" \n",
      " ; the persuasion of his regard for Elinor perhaps assisted her penetration ; \n",
      "symptom of love in his behaviour to Elinor , than she considered their serious\n",
      " , my dear Marianne .\" said she , \" Elinor will , in all probability be settle\n",
      "attract him , and though he admires Elinor ' s drawings very much , it is not \n",
      "ust allow for difference of taste . Elinor has not my feelings , and therefore\n",
      " !\" CHAPTER 4 \" What a pity it is , Elinor ,\" said Marianne , \" that Edward sh\n",
      "\" \" No taste for drawing !\" replied Elinor , \" why should you think so ? He do\n",
      "; but the kind of approbation which Elinor described as excited in him by the \n",
      " . \" I hope , Marianne ,\" continued Elinor , \" you do not consider him as defi\n",
      "he replied : \" Do not be offended , Elinor , if my praise of him is not in eve\n",
      "d amiable .\" \" I am sure ,\" replied Elinor , with a smile , \" that his dearest\n",
      "sense and his goodness ,\" continued Elinor , \" no one can , I think , be in do\n",
      "hall very soon think him handsome , Elinor , if I do not now . When you tell m\n",
      "ace , than I now do in his heart .\" Elinor started at this declaration , and w\n",
      "eem him ! Like him ! Cold - hearted Elinor ! Oh ! worse than cold - hearted ! \n",
      " will leave the room this moment .\" Elinor could not help laughing . \" Excuse \n",
      "elf , how delightful it would be !\" Elinor had given her real opinion to her s\n",
      "Displaying 25 of 263 matches:\n",
      "macy from motives of interest , for Edward Ferrars was the eldest son of a man\n",
      "s to her comprehension impossible . Edward Ferrars was not recommended to thei\n",
      "to see him driving a barouche . But Edward had no turn for great men or barouc\n",
      "er brother who was more promising . Edward had been staying several weeks in t\n",
      "the highest opinion in the world of Edward ' s heart . But you look grave , Ma\n",
      "ay consider it with some surprise . Edward is very amiable , and I love him te\n",
      "ama , how spiritless , how tame was Edward ' s manner in reading to us last ni\n",
      " require so much ! He must have all Edward ' s virtues , and his person and ma\n",
      " , Elinor ,\" said Marianne , \" that Edward should have no taste for drawing .\"\n",
      "sister for that blind partiality to Edward which produced it . \" I hope , Mari\n",
      " in speaking of him . She felt that Edward stood very high in her opinion . Sh\n",
      "le ; and I am very much mistaken if Edward is not himself aware that there wou\n",
      " I shall not lose you so soon , and Edward will have greater opportunity of im\n",
      "uld not consider her partiality for Edward in so prosperous a state as Mariann\n",
      "t she was going into Devonshire .-- Edward turned hastily towards her , on hea\n",
      "ood to visit her at Barton ; and to Edward she gave one with still greater aff\n",
      "it principally tended . To separate Edward and Elinor was as far from being he\n",
      "cannot conceal from you . I am sure Edward Ferrars is not well . We have now b\n",
      "vening of their being together ! In Edward ' s farewell there was no distincti\n",
      "nd Elinor , in quitting Norland and Edward , cried not as I did . Even now her\n",
      "ll the sensibility and spirit which Edward had unfortunately wanted . In Mrs .\n",
      " gained two such sons - in - law as Edward and Willoughby . Colonel Brandon ' \n",
      "nd with surprise to see and welcome Edward Ferrars . He was the only person in\n",
      "anne , indeed , the meeting between Edward and her sister was but a continuati\n",
      "land in their mutual behaviour . On Edward ' s side , more particularly , ther\n"
     ]
    }
   ],
   "source": [
    "text2.concordance(\"Elinor\")\n",
    "text2.concordance(\"Edward\")"
   ]
  },
  {
   "cell_type": "markdown",
   "metadata": {},
   "source": [
    "### Exercise 3\n",
    "\n",
    "Find the collocations in `text6`."
   ]
  },
  {
   "cell_type": "code",
   "execution_count": 7,
   "metadata": {
    "tags": []
   },
   "outputs": [
    {
     "name": "stdout",
     "output_type": "stream",
     "text": [
      "Collocations in text6:\n",
      "BLACK KNIGHT; clop clop; HEAD KNIGHT; mumble mumble; Holy Grail;\n",
      "squeak squeak; FRENCH GUARD; saw saw; Sir Robin; Run away; CARTOON\n",
      "CHARACTER; King Arthur; Iesu domine; Pie Iesu; DEAD PERSON; Round\n",
      "Table; clap clap; OLD MAN; dramatic chord; dona eis\n"
     ]
    }
   ],
   "source": [
    "print(\"Collocations in text6:\")\n",
    "text6.collocations()"
   ]
  },
  {
   "cell_type": "markdown",
   "metadata": {},
   "source": [
    "### Exercise 4\n",
    "\n",
    "Use only the `index()` function to find all the indexes of the word \"sunset\" in `text9`."
   ]
  },
  {
   "cell_type": "code",
   "execution_count": 8,
   "metadata": {
    "tags": []
   },
   "outputs": [
    {
     "name": "stdout",
     "output_type": "stream",
     "text": [
      "Indexes of the word 'sunset' in text9: [629, 642, 1432, 1650, 13335, 13381, 16313, 27014, 49340, 52092, 60857, 60862, 64721, 64736]\n"
     ]
    }
   ],
   "source": [
    "def find_all_indexes(word, text):\n",
    "    indexes = []\n",
    "    i = -1  # Start search from the beginning\n",
    "    while True:\n",
    "        try:\n",
    "            # Find the next occurrence of the word\n",
    "            i = text.index(word, i + 1)\n",
    "            indexes.append(i)\n",
    "        except ValueError:\n",
    "            # Break the loop when no more occurrences are found\n",
    "            break\n",
    "    return indexes\n",
    "\n",
    "# Find all indexes of the word \"sunset\" in text9\n",
    "word = \"sunset\"\n",
    "indexes = find_all_indexes(word, text9.tokens)\n",
    "print(f\"Indexes of the word '{word}' in text9: {indexes}\")"
   ]
  },
  {
   "cell_type": "markdown",
   "metadata": {},
   "source": [
    "### Exercise 5\n",
    "\n",
    "What is the difference between the following two lines? Calculate the two values:\n",
    "\n",
    "    len(sorted(set(w.lower() for w in text1)))\n",
    "    len(sorted(w.lower() for w in set(text1)))"
   ]
  },
  {
   "cell_type": "markdown",
   "metadata": {
    "tags": []
   },
   "source": [
    "Each one of them calculate the unique words in text1, however they are different approach of handling the case sensitiviity within different within different sept\n",
    "\n",
    "The first one, the words converted to lowercase first the the duplicated word get deleted then it's counted.\n",
    "It starts first from w.lower, where it converts all words within text1 to lowecase then runs the set() where in it is turn removes duolicate words and at the end run len(), where it counts the unique words, without considering thier case.\n",
    "\n",
    "Where in the Second one, it Removes the duplicated words from the text1 first than convert them to lowercase and count the unique words"
   ]
  },
  {
   "cell_type": "code",
   "execution_count": 10,
   "metadata": {
    "tags": []
   },
   "outputs": [
    {
     "data": {
      "text/plain": [
       "17231"
      ]
     },
     "execution_count": 10,
     "metadata": {},
     "output_type": "execute_result"
    }
   ],
   "source": [
    "len(sorted(set(w.lower() for w in text1))) # Line 1"
   ]
  },
  {
   "cell_type": "code",
   "execution_count": 11,
   "metadata": {
    "tags": []
   },
   "outputs": [
    {
     "data": {
      "text/plain": [
       "19317"
      ]
     },
     "execution_count": 11,
     "metadata": {},
     "output_type": "execute_result"
    }
   ],
   "source": [
    "len(sorted(w.lower() for w in set(text1))) "
   ]
  },
  {
   "cell_type": "markdown",
   "metadata": {},
   "source": [
    "For better understanding and prcatise, the following simple example show the difference."
   ]
  },
  {
   "cell_type": "code",
   "execution_count": 13,
   "metadata": {
    "tags": []
   },
   "outputs": [
    {
     "data": {
      "text/plain": [
       "3"
      ]
     },
     "execution_count": 13,
     "metadata": {},
     "output_type": "execute_result"
    }
   ],
   "source": [
    "sample_text = [\"Apple\", \"Banana\", \"apple\", \"Cherry\", \"banana\", \"APPLE\"]\n",
    "len(sorted(set(w.lower() for w in sample_text)))"
   ]
  },
  {
   "cell_type": "code",
   "execution_count": 14,
   "metadata": {
    "tags": []
   },
   "outputs": [
    {
     "data": {
      "text/plain": [
       "6"
      ]
     },
     "execution_count": 14,
     "metadata": {},
     "output_type": "execute_result"
    }
   ],
   "source": [
    "len(sorted(w.lower() for w in set(sample_text))) "
   ]
  },
  {
   "cell_type": "markdown",
   "metadata": {},
   "source": [
    "### Exercise 6\n",
    "\n",
    "Write the slice expression that extracts the last two words of `text2`."
   ]
  },
  {
   "cell_type": "code",
   "execution_count": 15,
   "metadata": {
    "tags": []
   },
   "outputs": [
    {
     "data": {
      "text/plain": [
       "['THE', 'END']"
      ]
     },
     "execution_count": 15,
     "metadata": {},
     "output_type": "execute_result"
    }
   ],
   "source": [
    "text2.tokens[-2:]"
   ]
  },
  {
   "cell_type": "markdown",
   "metadata": {},
   "source": [
    "### Exercise 7\n",
    "\n",
    "Find all the four-letter words in `text6`. With the help of a frequency distribution (`FreqDist`), show these words in decreasing order of frequency.\n"
   ]
  },
  {
   "cell_type": "code",
   "execution_count": 17,
   "metadata": {
    "tags": []
   },
   "outputs": [
    {
     "data": {
      "text/plain": [
       "[('that', 84),\n",
       " ('your', 75),\n",
       " ('What', 65),\n",
       " ('this', 59),\n",
       " ('Well', 54),\n",
       " ('HEAD', 54),\n",
       " ('have', 53),\n",
       " ('boom', 45),\n",
       " ('clop', 39),\n",
       " ('with', 38),\n",
       " ('away', 38),\n",
       " ('here', 34),\n",
       " ('Burn', 32),\n",
       " ('King', 27),\n",
       " ('what', 27),\n",
       " ('Come', 26),\n",
       " ('just', 25),\n",
       " ('tell', 24),\n",
       " ('Look', 24),\n",
       " ('Holy', 24),\n",
       " ('must', 23),\n",
       " ('will', 22),\n",
       " ('That', 22),\n",
       " ('dead', 22),\n",
       " ('from', 20),\n",
       " ('they', 18),\n",
       " ('come', 18),\n",
       " ('very', 17),\n",
       " ('know', 17),\n",
       " ('name', 17),\n",
       " ('were', 16),\n",
       " ('Stop', 16),\n",
       " ('then', 15),\n",
       " ('like', 15),\n",
       " ('into', 15),\n",
       " ('clap', 15),\n",
       " ('ZOOT', 14),\n",
       " ('them', 13),\n",
       " ('CART', 13),\n",
       " ('want', 13),\n",
       " ('more', 13),\n",
       " ('when', 12),\n",
       " ('Shut', 12),\n",
       " ('make', 12),\n",
       " ('sure', 12),\n",
       " ('land', 11),\n",
       " ('mean', 11),\n",
       " ('take', 11),\n",
       " ('much', 11),\n",
       " ('didn', 11),\n",
       " ('find', 11),\n",
       " ('good', 11),\n",
       " ('time', 11),\n",
       " ('room', 11),\n",
       " ('seek', 10),\n",
       " ('back', 10),\n",
       " ('rewr', 10),\n",
       " ('king', 10),\n",
       " ('Just', 10),\n",
       " ('Iesu', 10),\n",
       " ('LEFT', 10),\n",
       " ('only', 9),\n",
       " ('Lord', 9),\n",
       " ('thou', 9),\n",
       " ('Zoot', 9),\n",
       " ('Hold', 9),\n",
       " ('They', 8),\n",
       " ('thud', 8),\n",
       " ('DEAD', 8),\n",
       " ('nice', 8),\n",
       " ('some', 8),\n",
       " ('Then', 8),\n",
       " ('does', 8),\n",
       " ('dona', 8),\n",
       " ('Yeah', 8),\n",
       " ('This', 8),\n",
       " ('well', 8),\n",
       " ('cave', 8),\n",
       " ('said', 8),\n",
       " ('join', 7),\n",
       " ('yeah', 7),\n",
       " ('down', 7),\n",
       " ('hear', 7),\n",
       " ('sing', 7),\n",
       " ('last', 7),\n",
       " ('Oooh', 7),\n",
       " ('been', 7),\n",
       " ('look', 7),\n",
       " ('seen', 7),\n",
       " ('word', 7),\n",
       " ('five', 6),\n",
       " ('feel', 6),\n",
       " ('live', 6),\n",
       " ('Back', 6),\n",
       " ('stay', 6),\n",
       " ('howl', 5),\n",
       " ('call', 5),\n",
       " ('help', 5),\n",
       " ('give', 5),\n",
       " ('stop', 5),\n",
       " ('bonk', 5),\n",
       " ('nose', 5),\n",
       " ('wood', 5),\n",
       " ('Good', 5),\n",
       " ('duck', 5),\n",
       " ('else', 5),\n",
       " ('head', 5),\n",
       " ('kill', 5),\n",
       " ('door', 5),\n",
       " ('upon', 5),\n",
       " ('roar', 5),\n",
       " ('beat', 4),\n",
       " ('Here', 4),\n",
       " ('whop', 4),\n",
       " ('over', 4),\n",
       " ('many', 4),\n",
       " ('pass', 4),\n",
       " ('kick', 4),\n",
       " ('burn', 4),\n",
       " ('ways', 4),\n",
       " ('made', 4),\n",
       " ('same', 4),\n",
       " ('life', 4),\n",
       " ('idea', 4),\n",
       " ('than', 4),\n",
       " ('each', 4),\n",
       " ('shut', 4),\n",
       " ('lies', 4),\n",
       " ('open', 4),\n",
       " ('four', 4),\n",
       " ('whom', 4),\n",
       " ('keep', 4),\n",
       " ('note', 4),\n",
       " ('most', 4),\n",
       " ('hand', 4),\n",
       " ('path', 4),\n",
       " ('Hand', 4),\n",
       " ('wind', 3),\n",
       " ('Halt', 3),\n",
       " ('lord', 3),\n",
       " ('Will', 3),\n",
       " ('...]', 3),\n",
       " ('says', 3),\n",
       " ('soon', 3),\n",
       " ('fine', 3),\n",
       " ('long', 3),\n",
       " ('lost', 3),\n",
       " ('ever', 3),\n",
       " ('sort', 3),\n",
       " ('case', 3),\n",
       " ('went', 3),\n",
       " ('Aaah', 3),\n",
       " ('Have', 3),\n",
       " ('Tell', 3),\n",
       " ('pond', 3),\n",
       " ('fair', 3),\n",
       " ('hall', 3),\n",
       " ('talk', 3),\n",
       " ('eyes', 3),\n",
       " ('show', 3),\n",
       " ('rrrr', 3),\n",
       " ('leap', 3),\n",
       " ('WIFE', 3),\n",
       " ('Tale', 3),\n",
       " ('Wayy', 3),\n",
       " ('need', 3),\n",
       " ('sigh', 3),\n",
       " ('oral', 3),\n",
       " ('foul', 3),\n",
       " ('sank', 3),\n",
       " ('fell', 3),\n",
       " ('Make', 3),\n",
       " ('died', 3),\n",
       " ('knew', 3),\n",
       " ('best', 3),\n",
       " ('ecky', 3),\n",
       " ('Hang', 3),\n",
       " ('Pull', 2),\n",
       " ('Wait', 2),\n",
       " ('line', 2),\n",
       " ('held', 2),\n",
       " ('such', 2),\n",
       " ('next', 2),\n",
       " ('shit', 2),\n",
       " ('lady', 2),\n",
       " ('told', 2),\n",
       " ('vote', 2),\n",
       " ('Aagh', 2),\n",
       " ('None', 2),\n",
       " ('left', 2),\n",
       " ('mine', 2),\n",
       " ('Thee', 2),\n",
       " ('Augh', 2),\n",
       " ('newt', 2),\n",
       " ('also', 2),\n",
       " ('Lead', 2),\n",
       " ('wise', 2),\n",
       " ('home', 2),\n",
       " ('able', 2),\n",
       " ('With', 2),\n",
       " ('busy', 2),\n",
       " ('push', 2),\n",
       " ('task', 2),\n",
       " ('dark', 2),\n",
       " ('Allo', 2),\n",
       " ('food', 2),\n",
       " ('sons', 2),\n",
       " ('blow', 2),\n",
       " ('Quoi', 2),\n",
       " ('Over', 2),\n",
       " ('rode', 2),\n",
       " ('work', 2),\n",
       " ('When', 2),\n",
       " ('Open', 2),\n",
       " ('rest', 2),\n",
       " ('used', 2),\n",
       " ('once', 2),\n",
       " ('real', 2),\n",
       " ('ours', 2),\n",
       " ('ARMY', 2),\n",
       " ('Neee', 2),\n",
       " ('daft', 2),\n",
       " ('girl', 2),\n",
       " ('huge', 2),\n",
       " ('even', 2),\n",
       " ('fold', 2),\n",
       " ('Tall', 2),\n",
       " ('vain', 2),\n",
       " ('pull', 2),\n",
       " ('cost', 2),\n",
       " ('Very', 2),\n",
       " ('holy', 2),\n",
       " ('test', 2),\n",
       " ('tree', 2),\n",
       " ('done', 2),\n",
       " ('high', 2),\n",
       " ('fire', 2),\n",
       " ('Fine', 2),\n",
       " ('rock', 2),\n",
       " ('Keep', 2),\n",
       " ('Bors', 2),\n",
       " ('BORS', 2),\n",
       " ('tiny', 2),\n",
       " ('Amen', 2),\n",
       " ('side', 2),\n",
       " ('Blue', 2),\n",
       " ('folk', 2),\n",
       " ('KING', 1),\n",
       " ('Whoa', 1),\n",
       " ('goes', 1),\n",
       " ('zone', 1),\n",
       " ('grip', 1),\n",
       " ('husk', 1),\n",
       " ('bird', 1),\n",
       " ('[...', 1),\n",
       " ('cart', 1),\n",
       " ('baby', 1),\n",
       " ('hang', 1),\n",
       " ('nine', 1),\n",
       " ('walk', 1),\n",
       " ('Must', 1),\n",
       " ('hasn', 1),\n",
       " ('self', 1),\n",
       " ('week', 1),\n",
       " ('Lady', 1),\n",
       " ('Lake', 1),\n",
       " ('clad', 1),\n",
       " ('tart', 1),\n",
       " ('bint', 1),\n",
       " ('Help', 1),\n",
       " ('stab', 1),\n",
       " ('move', 1),\n",
       " ('Your', 1),\n",
       " ('liar', 1),\n",
       " ('arms', 1),\n",
       " ('draw', 1),\n",
       " ('bite', 1),\n",
       " ('legs', 1),\n",
       " ('wart', 1),\n",
       " ('More', 1),\n",
       " ('Wood', 1),\n",
       " ('True', 1),\n",
       " ('Does', 1),\n",
       " ('sink', 1),\n",
       " ('Pure', 1),\n",
       " ('Hill', 1),\n",
       " ('film', 1),\n",
       " ('band', 1),\n",
       " ('ride', 1),\n",
       " ('dine', 1),\n",
       " ('spam', 1),\n",
       " ('pram', 1),\n",
       " ('horn', 1),\n",
       " ('keen', 1),\n",
       " ('Mind', 1),\n",
       " ('dogs', 1),\n",
       " ('boil', 1),\n",
       " ('fart', 1),\n",
       " ('mooo', 1),\n",
       " ('tear', 1),\n",
       " ('plan', 1),\n",
       " ('bang', 1),\n",
       " ('bois', 1),\n",
       " ('wait', 1),\n",
       " ('took', 1),\n",
       " ('bold', 1),\n",
       " ('pulp', 1),\n",
       " ('body', 1),\n",
       " ('lads', 1),\n",
       " ('ugly', 1),\n",
       " ('tail', 1),\n",
       " ('fled', 1),\n",
       " ('feet', 1),\n",
       " ('heeh', 1),\n",
       " ('wayy', 1),\n",
       " ('Oooo', 1),\n",
       " ('Away', 1),\n",
       " ('beds', 1),\n",
       " ('warm', 1),\n",
       " ('soft', 1),\n",
       " ('Mine', 1),\n",
       " ('seem', 1),\n",
       " ('dull', 1),\n",
       " ('half', 1),\n",
       " ('twin', 1),\n",
       " ('evil', 1),\n",
       " ('boys', 1),\n",
       " ('glad', 1),\n",
       " ('wasn', 1),\n",
       " ('deal', 1),\n",
       " ('cope', 1),\n",
       " ('nick', 1),\n",
       " ('face', 1),\n",
       " ('duty', 1),\n",
       " ('clue', 1),\n",
       " ('aren', 1),\n",
       " ('oooh', 1),\n",
       " ('Seek', 1),\n",
       " ('Peng', 1),\n",
       " ('tale', 1),\n",
       " ('song', 1),\n",
       " ('owns', 1),\n",
       " ('rich', 1),\n",
       " ('suit', 1),\n",
       " ('Most', 1),\n",
       " ('kind', 1),\n",
       " ('sign', 1),\n",
       " ('Stay', 1),\n",
       " ('send', 1),\n",
       " ('ptoo', 1),\n",
       " ('hadn', 1),\n",
       " ('jump', 1),\n",
       " ('rope', 1),\n",
       " ('Didn', 1),\n",
       " ('dear', 1),\n",
       " ('main', 1),\n",
       " ('hell', 1),\n",
       " ('bond', 1),\n",
       " ('near', 1),\n",
       " ('felt', 1),\n",
       " ('Uugh', 1),\n",
       " ('uuup', 1),\n",
       " ('Heee', 1),\n",
       " ('town', 1),\n",
       " ('sent', 1),\n",
       " ('Aggh', 1),\n",
       " ('Even', 1),\n",
       " ('sell', 1),\n",
       " ('Ecky', 1),\n",
       " ('zoop', 1),\n",
       " ('owli', 1),\n",
       " ('zhiv', 1),\n",
       " ('Said', 1),\n",
       " ('vary', 1),\n",
       " ('year', 1),\n",
       " ('gave', 1),\n",
       " ('miss', 1),\n",
       " ('snap', 1),\n",
       " ('Ages', 1),\n",
       " ('Umhm', 1),\n",
       " ('...?', 1),\n",
       " ('full', 1),\n",
       " ('lair', 1),\n",
       " ('sire', 1),\n",
       " ('foot', 1),\n",
       " ('late', 1),\n",
       " ('mile', 1),\n",
       " ('wide', 1),\n",
       " ('mate', 1),\n",
       " ('Chop', 1),\n",
       " ('stew', 1),\n",
       " ('lose', 1),\n",
       " ('risk', 1),\n",
       " ('Like', 1),\n",
       " ('bows', 1),\n",
       " ('Book', 1),\n",
       " ('Nine', 1),\n",
       " ('bits', 1),\n",
       " ('grin', 1),\n",
       " ('carp', 1),\n",
       " ('bats', 1),\n",
       " ('Skip', 1),\n",
       " ('less', 1),\n",
       " ('Four', 1),\n",
       " ('Five', 1),\n",
       " ('Once', 1),\n",
       " ('pure', 1),\n",
       " (\"'...\", 1),\n",
       " ('Ives', 1),\n",
       " ('eats', 1),\n",
       " ('asks', 1),\n",
       " ('cast', 1),\n",
       " ('east', 1),\n",
       " ('pray', 1),\n",
       " ('luck', 1),\n",
       " ('easy', 1),\n",
       " ('Thou', 1),\n",
       " ('hast', 1),\n",
       " ('dare', 1),\n",
       " ('bent', 1),\n",
       " ('wave', 1),\n",
       " ('tops', 1),\n",
       " ('haaa', 1),\n",
       " ('Walk', 1),\n",
       " ('gone', 1),\n",
       " ('ones', 1),\n",
       " ('pack', 1)]"
      ]
     },
     "execution_count": 17,
     "metadata": {},
     "output_type": "execute_result"
    }
   ],
   "source": [
    "# Extract all four letter words\n",
    "four_letter_words = [w for w in text6 if len(w) == 4]\n",
    "\n",
    "# Calculate frequency distribution\n",
    "freq_dist = FreqDist(four_letter_words)\n",
    "\n",
    "# Display words in decreasing order of frequency\n",
    "freq_dist.most_common()"
   ]
  },
  {
   "cell_type": "markdown",
   "metadata": {},
   "source": [
    "### Exercise 8\n",
    "\n",
    "Create a set for the words in `text6`. Use a `for` and an `if` statement to loop over the words in the set and print all titlecased words with more than one character, one per line.\n"
   ]
  },
  {
   "cell_type": "code",
   "execution_count": 18,
   "metadata": {
    "tags": []
   },
   "outputs": [
    {
     "name": "stdout",
     "output_type": "stream",
     "text": [
      "Lead\n",
      "Tale\n",
      "Schools\n",
      "Swamp\n",
      "Britain\n",
      "Midget\n",
      "This\n",
      "His\n",
      "Message\n",
      "King\n",
      "Nine\n",
      "Thppppt\n",
      "Mine\n",
      "Exactly\n",
      "Thy\n",
      "Augh\n",
      "Ah\n",
      "Um\n",
      "Heee\n",
      "Hang\n",
      "Yup\n",
      "Providence\n",
      "Honestly\n",
      "Which\n",
      "Halt\n",
      "Build\n",
      "Roger\n",
      "Hallo\n",
      "No\n",
      "Thee\n",
      "Cider\n",
      "Keep\n",
      "Robinson\n",
      "Princess\n",
      "Thpppt\n",
      "Lie\n",
      "Well\n",
      "Morning\n",
      "Clark\n",
      "Autumn\n",
      "Too\n",
      "Lady\n",
      "Aaah\n",
      "Ridden\n",
      "Mmm\n",
      "More\n",
      "Idiom\n",
      "Uther\n",
      "Have\n",
      "Concorde\n",
      "Dramatically\n",
      "Good\n",
      "Perhaps\n",
      "Would\n",
      "Firstly\n",
      "How\n",
      "Bravest\n",
      "Uugh\n",
      "Burn\n",
      "Guards\n",
      "Doctor\n",
      "Whoa\n",
      "Riiight\n",
      "Twenty\n",
      "Nay\n",
      "Britons\n",
      "Aramaic\n",
      "Pendragon\n",
      "If\n",
      "Everything\n",
      "Wait\n",
      "Iiiives\n",
      "Aagh\n",
      "Arthur\n",
      "Wood\n",
      "Yeaaah\n",
      "Huy\n",
      "Action\n",
      "Those\n",
      "Caerbannog\n",
      "Must\n",
      "Uh\n",
      "Oooohoohohooo\n",
      "Quickly\n",
      "Aaauggh\n",
      "Why\n",
      "Please\n",
      "Bloody\n",
      "Pin\n",
      "Your\n",
      "Bristol\n",
      "Alright\n",
      "Now\n",
      "Huh\n",
      "Spring\n",
      "Aauuugh\n",
      "Chapter\n",
      "Aaauugh\n",
      "Unfortunately\n",
      "Gorge\n",
      "Really\n",
      "Look\n",
      "By\n",
      "Armaments\n",
      "Thppt\n",
      "God\n",
      "Olfin\n",
      "Aauuuves\n",
      "Angnor\n",
      "Say\n",
      "Alice\n",
      "Ector\n",
      "Anarcho\n",
      "Away\n",
      "Excuse\n",
      "Lord\n",
      "Eee\n",
      "An\n",
      "Beast\n",
      "Hah\n",
      "Ere\n",
      "Guy\n",
      "With\n",
      "Ow\n",
      "Until\n",
      "Man\n",
      "Said\n",
      "See\n",
      "Hold\n",
      "English\n",
      "Winter\n",
      "Great\n",
      "Mother\n",
      "Loimbard\n",
      "Nu\n",
      "Aauuggghhh\n",
      "Aauuuuugh\n",
      "Round\n",
      "Fetchez\n",
      "Here\n",
      "Defeat\n",
      "Oh\n",
      "Patsy\n",
      "Silly\n",
      "Run\n",
      "Heh\n",
      "Use\n",
      "Galahad\n",
      "Himself\n",
      "Aaaaugh\n",
      "Meanwhile\n",
      "Shall\n",
      "Gable\n",
      "Tell\n",
      "Ahh\n",
      "Anybody\n",
      "Grenade\n",
      "Cut\n",
      "All\n",
      "Farewell\n",
      "Put\n",
      "Between\n",
      "Wayy\n",
      "Bedevere\n",
      "Aggh\n",
      "Knights\n",
      "Follow\n",
      "None\n",
      "One\n",
      "Leaving\n",
      "Oooooooh\n",
      "Bring\n",
      "Packing\n",
      "Stop\n",
      "Hiyya\n",
      "Am\n",
      "So\n",
      "Just\n",
      "French\n",
      "Found\n",
      "Together\n",
      "Gallahad\n",
      "First\n",
      "Off\n",
      "Do\n",
      "Battle\n",
      "Four\n",
      "Psalms\n",
      "Torment\n",
      "Thou\n",
      "Eh\n",
      "European\n",
      "Oooo\n",
      "And\n",
      "Woa\n",
      "Hooray\n",
      "Summer\n",
      "Then\n",
      "Make\n",
      "Arimathea\n",
      "England\n",
      "Skip\n",
      "Chicken\n",
      "Does\n",
      "Lucky\n",
      "Five\n",
      "Bad\n",
      "Hm\n",
      "In\n",
      "Book\n",
      "Iesu\n",
      "Chop\n",
      "Mind\n",
      "Peng\n",
      "Yeaah\n",
      "Crapper\n",
      "Rather\n",
      "Who\n",
      "Could\n",
      "Yapping\n",
      "Gawain\n",
      "Actually\n",
      "Tall\n",
      "Since\n",
      "Blue\n",
      "When\n",
      "Ages\n",
      "Supposing\n",
      "Ninepence\n",
      "Help\n",
      "Brave\n",
      "They\n",
      "Like\n",
      "Isn\n",
      "Bon\n",
      "Churches\n",
      "Peril\n",
      "Splendid\n",
      "Ay\n",
      "Ha\n",
      "Mud\n",
      "Erm\n",
      "Uhh\n",
      "Aaaaaaaaah\n",
      "Bridge\n",
      "Aah\n",
      "Table\n",
      "Knight\n",
      "Aaaah\n",
      "Steady\n",
      "Sorry\n",
      "Recently\n",
      "Eternal\n",
      "Where\n",
      "Remove\n",
      "Once\n",
      "Camaaaaaargue\n",
      "Quiet\n",
      "Far\n",
      "Stand\n",
      "Amen\n",
      "What\n",
      "Umhm\n",
      "Nothing\n",
      "Attila\n",
      "Throw\n",
      "Hee\n",
      "Hey\n",
      "Stay\n",
      "Practice\n",
      "Frank\n",
      "Tis\n",
      "Open\n",
      "Erbert\n",
      "Picture\n",
      "Didn\n",
      "Don\n",
      "Over\n",
      "Hiyaah\n",
      "Ecky\n",
      "Shrubberies\n",
      "Father\n",
      "Hiyah\n",
      "Is\n",
      "Ewing\n",
      "We\n",
      "Cornwall\n",
      "Pie\n",
      "Forward\n",
      "Today\n",
      "Hyy\n",
      "At\n",
      "Bones\n",
      "Dis\n",
      "Welcome\n",
      "Iiiiives\n",
      "As\n",
      "Aaagh\n",
      "Quoi\n",
      "There\n",
      "Hello\n",
      "Prepare\n",
      "Saint\n",
      "Or\n",
      "Ayy\n",
      "Thsss\n",
      "France\n",
      "Winston\n",
      "The\n",
      "Badon\n",
      "For\n",
      "Pull\n",
      "Huyah\n",
      "Hmm\n",
      "Thank\n",
      "Bors\n",
      "But\n",
      "Jesus\n",
      "Right\n",
      "Go\n",
      "Hoa\n",
      "Old\n",
      "Piglet\n",
      "Two\n",
      "Yes\n",
      "Dragon\n",
      "Tower\n",
      "Lake\n",
      "Running\n",
      "Therefore\n",
      "Every\n",
      "Chaste\n",
      "Nador\n",
      "Ohh\n",
      "Zoot\n",
      "Pure\n",
      "Shrubber\n",
      "Divine\n",
      "Clear\n",
      "African\n",
      "Antioch\n",
      "Cherries\n",
      "Dennis\n",
      "Aaaaaah\n",
      "Yeah\n",
      "Til\n",
      "He\n",
      "Did\n",
      "Maynard\n",
      "Be\n",
      "Umm\n",
      "On\n",
      "Hya\n",
      "Thursday\n",
      "Auuuuuuuugh\n",
      "Sir\n",
      "Court\n",
      "Hurry\n",
      "It\n",
      "Victory\n",
      "Un\n",
      "Almighty\n",
      "May\n",
      "Excalibur\n",
      "Greetings\n",
      "Saxons\n",
      "Ulk\n",
      "Beyond\n",
      "Anyway\n",
      "Quick\n",
      "Chickennn\n",
      "Supreme\n",
      "Castle\n",
      "Shut\n",
      "Even\n",
      "Not\n",
      "True\n",
      "Brother\n",
      "Forgive\n",
      "Surely\n",
      "She\n",
      "Herbert\n",
      "Uuh\n",
      "Rheged\n",
      "Other\n",
      "Neee\n",
      "Ask\n",
      "Fine\n",
      "Hand\n",
      "Back\n",
      "Oooh\n",
      "Will\n",
      "Ni\n",
      "Dingo\n",
      "Charge\n",
      "Bread\n",
      "Three\n",
      "Very\n",
      "You\n",
      "Ooh\n",
      "Walk\n",
      "Dappy\n",
      "Thpppppt\n",
      "Speak\n",
      "Most\n",
      "Bedwere\n",
      "Hic\n",
      "Anthrax\n",
      "Quite\n",
      "Haw\n",
      "Grail\n",
      "Yay\n",
      "Aaaugh\n",
      "Oui\n",
      "Apples\n",
      "Monsieur\n",
      "Aaaaaaaah\n",
      "Joseph\n",
      "Course\n",
      "Assyria\n",
      "Come\n",
      "Behold\n",
      "Agh\n",
      "Never\n",
      "Robin\n",
      "Tim\n",
      "Are\n",
      "Order\n",
      "Consult\n",
      "Mercea\n",
      "Lancelot\n",
      "Death\n",
      "Allo\n",
      "Ives\n",
      "Prince\n",
      "Fiends\n",
      "Camelot\n",
      "Shh\n",
      "Ho\n",
      "Enchanter\n",
      "Listen\n",
      "Try\n",
      "That\n",
      "Silence\n",
      "Christ\n",
      "My\n",
      "Launcelot\n",
      "Waa\n",
      "Hill\n",
      "Of\n",
      "Seek\n",
      "Bravely\n",
      "To\n",
      "Black\n",
      "Our\n",
      "Looks\n",
      "Holy\n",
      "Hoo\n",
      "Explain\n",
      "Get\n",
      "Let\n"
     ]
    }
   ],
   "source": [
    "# we first create set for the words in text6\n",
    "word_set = set(text6)\n",
    "\n",
    "# then loop over each word  and then print titlecased words with more than one character \n",
    "for word in word_set:\n",
    "    if word.istitle() and len(word) > 1:\n",
    "        print(word)\n",
    "        \n",
    "        \n",
    "# A titlecased word is a word that starts iwth uppercase letter and then followed by lowercase letters.      \n",
    "# The istitle() method returns TRUE if the string is nonempty and a titlecased string. \n",
    "# Otherwise, it returns FALSE.\n",
    "# Ref: https://www.learnbyexample.org/python-string-istitle-method/"
   ]
  },
  {
   "cell_type": "markdown",
   "metadata": {},
   "source": [
    "### Exercise 9\n",
    "\n",
    "Write expressions for finding all words in `text6` that meet the conditions listed below:\n",
    "\n",
    "a) ending in \"ing\", "
   ]
  },
  {
   "cell_type": "code",
   "execution_count": 19,
   "metadata": {
    "tags": []
   },
   "outputs": [
    {
     "data": {
      "text/plain": [
       "['King',\n",
       " 'using',\n",
       " 'suggesting',\n",
       " 'carrying',\n",
       " 'bring',\n",
       " 'Supposing',\n",
       " 'guiding',\n",
       " 'Bring',\n",
       " 'Bring',\n",
       " 'Bring',\n",
       " 'Bring',\n",
       " 'Bring',\n",
       " 'Bring',\n",
       " 'Bring',\n",
       " 'Bring',\n",
       " 'Bring',\n",
       " 'Bring',\n",
       " 'Bring',\n",
       " 'Bring',\n",
       " 'Nothing',\n",
       " 'getting',\n",
       " 'fooling',\n",
       " 'something',\n",
       " 'singing',\n",
       " 'king',\n",
       " 'King',\n",
       " 'King',\n",
       " 'king',\n",
       " 'king',\n",
       " 'exploiting',\n",
       " 'anging',\n",
       " 'going',\n",
       " 'King',\n",
       " 'King',\n",
       " 'king',\n",
       " 'king',\n",
       " 'fooling',\n",
       " 'living',\n",
       " 'perpetuating',\n",
       " 'working',\n",
       " 'bringing',\n",
       " 'meeting',\n",
       " 'king',\n",
       " 'king',\n",
       " 'sing',\n",
       " 'shimmering',\n",
       " 'signifying',\n",
       " 'singing',\n",
       " 'king',\n",
       " 'lying',\n",
       " 'distributing',\n",
       " 'saying',\n",
       " 'being',\n",
       " 'repressing',\n",
       " 'King',\n",
       " 'King',\n",
       " 'King',\n",
       " 'King',\n",
       " 'King',\n",
       " 'King',\n",
       " 'kneeling',\n",
       " 'going',\n",
       " 'Running',\n",
       " 'coming',\n",
       " 'chanting',\n",
       " 'chanting',\n",
       " 'Bring',\n",
       " 'telling',\n",
       " 'King',\n",
       " 'King',\n",
       " 'appearing',\n",
       " 'learning',\n",
       " 'singing',\n",
       " 'dancing',\n",
       " 'sing',\n",
       " 'dancing',\n",
       " 'sing',\n",
       " 'King',\n",
       " 'singing',\n",
       " 'thing',\n",
       " 'groveling',\n",
       " 'doing',\n",
       " 'averting',\n",
       " 'depressing',\n",
       " 'King',\n",
       " 'sing',\n",
       " 'singing',\n",
       " 'blessing',\n",
       " 'blessing',\n",
       " 'King',\n",
       " 'King',\n",
       " 'king',\n",
       " 'doing',\n",
       " 'King',\n",
       " 'taunting',\n",
       " 'whispering',\n",
       " 'taking',\n",
       " 'King',\n",
       " 'taunting',\n",
       " 'having',\n",
       " 'Ewing',\n",
       " 'singing',\n",
       " 'preserving',\n",
       " 'singing',\n",
       " 'passing',\n",
       " 'singing',\n",
       " 'nothing',\n",
       " 'nothing',\n",
       " 'Yapping',\n",
       " 'bitching',\n",
       " 'singing',\n",
       " 'singing',\n",
       " 'singing',\n",
       " 'singing',\n",
       " 'singing',\n",
       " 'taking',\n",
       " 'singing',\n",
       " 'singing',\n",
       " 'chanting',\n",
       " 'chanting',\n",
       " 'chanting',\n",
       " 'whispering',\n",
       " 'asking',\n",
       " 'singing',\n",
       " 'King',\n",
       " 'bathing',\n",
       " 'dressing',\n",
       " 'undressing',\n",
       " 'making',\n",
       " 'exciting',\n",
       " 'nothing',\n",
       " 'training',\n",
       " 'nothing',\n",
       " 'going',\n",
       " 'setting',\n",
       " 'writing',\n",
       " 'string',\n",
       " 'enjoying',\n",
       " 'setting',\n",
       " 'spanking',\n",
       " 'spanking',\n",
       " 'spanking',\n",
       " 'spanking',\n",
       " 'spanking',\n",
       " 'going',\n",
       " 'spanking',\n",
       " 'spanking',\n",
       " 'King',\n",
       " 'something',\n",
       " 'walking',\n",
       " 'dragging',\n",
       " 'smashing',\n",
       " 'acting',\n",
       " 'starling',\n",
       " 'nothing',\n",
       " 'sing',\n",
       " 'going',\n",
       " 'getting',\n",
       " 'something',\n",
       " 'marrying',\n",
       " 'anything',\n",
       " 'entering',\n",
       " 'Leaving',\n",
       " 'Leaving',\n",
       " 'going',\n",
       " 'coming',\n",
       " 'singing',\n",
       " 'daring',\n",
       " 'Morning',\n",
       " 'Morning',\n",
       " 'everything',\n",
       " 'wedding',\n",
       " 'thing',\n",
       " 'going',\n",
       " 'riding',\n",
       " 'King',\n",
       " 'understanding',\n",
       " 'crying',\n",
       " 'going',\n",
       " 'living',\n",
       " 'yelling',\n",
       " 'yelling',\n",
       " 'wounding',\n",
       " 'getting',\n",
       " 'binding',\n",
       " 'singing',\n",
       " 'going',\n",
       " 'going',\n",
       " 'singing',\n",
       " 'going',\n",
       " 'singing',\n",
       " 'going',\n",
       " 'singing',\n",
       " 'going',\n",
       " 'singing',\n",
       " 'going',\n",
       " 'going',\n",
       " 'going',\n",
       " 'going',\n",
       " 'singing',\n",
       " 'going',\n",
       " 'singing',\n",
       " 'going',\n",
       " 'going',\n",
       " 'singing',\n",
       " 'going',\n",
       " 'singing',\n",
       " 'singing',\n",
       " 'singing',\n",
       " 'King',\n",
       " 'doing',\n",
       " 'saying',\n",
       " 'passing',\n",
       " 'Nothing',\n",
       " 'boing',\n",
       " 'running',\n",
       " 'herring',\n",
       " 'thing',\n",
       " 'herring',\n",
       " 'saying',\n",
       " 'singing',\n",
       " 'Packing',\n",
       " 'packing',\n",
       " 'sneaking',\n",
       " 'buggering',\n",
       " 'chickening',\n",
       " 'pissing',\n",
       " 'throwing',\n",
       " 'singing',\n",
       " 'sneaking',\n",
       " 'buggering',\n",
       " 'looking',\n",
       " 'saying',\n",
       " 'rejoicing',\n",
       " 'rejoicing',\n",
       " 'shivering',\n",
       " 'Spring',\n",
       " 'Spring',\n",
       " 'Spring',\n",
       " 'King',\n",
       " 'King',\n",
       " 'looking',\n",
       " 'looking',\n",
       " 'anything',\n",
       " 'living',\n",
       " 'resting',\n",
       " 'warning',\n",
       " 'Bring',\n",
       " 'chanting',\n",
       " 'saying',\n",
       " 'saying',\n",
       " 'counting',\n",
       " 'excepting',\n",
       " 'being',\n",
       " 'being',\n",
       " 'sing',\n",
       " 'carving',\n",
       " 'dying',\n",
       " 'dictating',\n",
       " 'anything',\n",
       " 'running',\n",
       " 'doing',\n",
       " 'going',\n",
       " 'King',\n",
       " 'king',\n",
       " 'sing',\n",
       " 'singing',\n",
       " 'King',\n",
       " 'running',\n",
       " 'advancing',\n",
       " 'wetting',\n",
       " 'opening',\n",
       " 'thing',\n",
       " 'laughing',\n",
       " 'approaching',\n",
       " 'taunting',\n",
       " 'nothing',\n",
       " 'taunting',\n",
       " 'exciting',\n",
       " 'taunting',\n",
       " 'Everything']"
      ]
     },
     "execution_count": 19,
     "metadata": {},
     "output_type": "execute_result"
    }
   ],
   "source": [
    "[w for w in text6 if w.endswith(\"ing\")]"
   ]
  },
  {
   "cell_type": "markdown",
   "metadata": {},
   "source": [
    "b) containing the letter \"z\","
   ]
  },
  {
   "cell_type": "code",
   "execution_count": 20,
   "metadata": {
    "tags": []
   },
   "outputs": [
    {
     "data": {
      "text/plain": [
       "['zone',\n",
       " 'amazes',\n",
       " 'Fetchez',\n",
       " 'Fetchez',\n",
       " 'zoop',\n",
       " 'zoo',\n",
       " 'zhiv',\n",
       " 'frozen',\n",
       " 'zoosh']"
      ]
     },
     "execution_count": 20,
     "metadata": {},
     "output_type": "execute_result"
    }
   ],
   "source": [
    "[w for w in text6 if 'z' in w]"
   ]
  },
  {
   "cell_type": "markdown",
   "metadata": {},
   "source": [
    "c) containing the letter sequence \"pt\"."
   ]
  },
  {
   "cell_type": "code",
   "execution_count": 21,
   "metadata": {
    "tags": []
   },
   "outputs": [
    {
     "data": {
      "text/plain": [
       "['empty',\n",
       " 'aptly',\n",
       " 'Thpppppt',\n",
       " 'Thppt',\n",
       " 'Thppt',\n",
       " 'empty',\n",
       " 'Thppppt',\n",
       " 'temptress',\n",
       " 'temptation',\n",
       " 'ptoo',\n",
       " 'Chapter',\n",
       " 'excepting',\n",
       " 'Thpppt']"
      ]
     },
     "execution_count": 21,
     "metadata": {},
     "output_type": "execute_result"
    }
   ],
   "source": [
    "[w for w in text6 if 'pt' in w]"
   ]
  },
  {
   "cell_type": "markdown",
   "metadata": {},
   "source": [
    "### Exercise 10\n",
    "\n",
    "Define `sent` to be the list of words `['she', 'sells', 'sea', 'shells', 'by', 'the', 'sea', 'shore']`. Now write code to perform the following tasks:\n"
   ]
  },
  {
   "cell_type": "code",
   "execution_count": 23,
   "metadata": {
    "tags": []
   },
   "outputs": [],
   "source": [
    "sent = ['she', 'sells', 'sea', 'shells', 'by', 'the', 'sea', 'shore']"
   ]
  },
  {
   "cell_type": "markdown",
   "metadata": {},
   "source": [
    "a) print all words beginning with \"sh\","
   ]
  },
  {
   "cell_type": "code",
   "execution_count": 24,
   "metadata": {
    "tags": []
   },
   "outputs": [
    {
     "name": "stdout",
     "output_type": "stream",
     "text": [
      "she\n",
      "shells\n",
      "shore\n"
     ]
    }
   ],
   "source": [
    "for word in sent:\n",
    "    if word.startswith('sh'):\n",
    "        print(word)"
   ]
  },
  {
   "cell_type": "markdown",
   "metadata": {},
   "source": [
    "b) print all words longer than four characters."
   ]
  },
  {
   "cell_type": "code",
   "execution_count": 25,
   "metadata": {
    "tags": []
   },
   "outputs": [
    {
     "name": "stdout",
     "output_type": "stream",
     "text": [
      "sells\n",
      "shells\n",
      "shore\n"
     ]
    }
   ],
   "source": [
    "for word in sent:\n",
    "    if len(word) > 4:\n",
    "        print(word)"
   ]
  },
  {
   "cell_type": "markdown",
   "metadata": {},
   "source": [
    "### Exercise 11\n",
    "\n",
    "What does the following Python code do? \n",
    "\n",
    "`sum(len(w) for w in text1)`\n"
   ]
  },
  {
   "cell_type": "markdown",
   "metadata": {},
   "source": [
    "summation the total number of the characters in text 1"
   ]
  },
  {
   "cell_type": "markdown",
   "metadata": {
    "tags": []
   },
   "source": [
    "Can you use it to work out the average word length of `text1`?"
   ]
  },
  {
   "cell_type": "code",
   "execution_count": 27,
   "metadata": {
    "tags": []
   },
   "outputs": [
    {
     "name": "stdout",
     "output_type": "stream",
     "text": [
      "3.830411128023649\n"
     ]
    }
   ],
   "source": [
    "average_word_length = sum(len(w) for w in text1) / len(text1)\n",
    "print(average_word_length)"
   ]
  },
  {
   "cell_type": "markdown",
   "metadata": {},
   "source": [
    "### Exercise 12\n",
    "\n",
    "Define a function `freq(word, text)` that calculates how often a given word occurs in a text, not using `count()` but a `FreqDist`. Use the function to calculate how often \"promise\" appears in `text4`."
   ]
  },
  {
   "cell_type": "code",
   "execution_count": 28,
   "metadata": {
    "tags": []
   },
   "outputs": [
    {
     "name": "stdout",
     "output_type": "stream",
     "text": [
      "'promise' appears 52 times in text4.\n"
     ]
    }
   ],
   "source": [
    "def freq(word, text):\n",
    "    distribution = FreqDist(text)\n",
    "    return distribution[word]\n",
    "\n",
    "# Using the function to calculate how often \"promise\" appears in text4\n",
    "count_promise = freq(\"promise\", text4)\n",
    "print(f\"'promise' appears {count_promise} times in text4.\")"
   ]
  },
  {
   "cell_type": "markdown",
   "metadata": {},
   "source": [
    "## Referenes:\n",
    "    https://www.learnbyexample.org/python-string-istitle-method/\n",
    "    https://www.tutorialsteacher.com/python/string-endswith#:~:text=Python%20String%20endswith()%20Method,to%20check%20for%20multiple%20options.\n",
    "    https://www.educative.io/answers/what-is-freqdist-in-python"
   ]
  }
 ],
 "metadata": {
  "kernelspec": {
   "display_name": "Python 3 (ipykernel)",
   "language": "python",
   "name": "python3"
  },
  "language_info": {
   "codemirror_mode": {
    "name": "ipython",
    "version": 3
   },
   "file_extension": ".py",
   "mimetype": "text/x-python",
   "name": "python",
   "nbconvert_exporter": "python",
   "pygments_lexer": "ipython3",
   "version": "3.8.17"
  }
 },
 "nbformat": 4,
 "nbformat_minor": 4
}
